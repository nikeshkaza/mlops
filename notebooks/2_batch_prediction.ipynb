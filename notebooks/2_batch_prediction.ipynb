{
 "cells": [
  {
   "cell_type": "code",
   "execution_count": 0,
   "metadata": {
    "application/vnd.databricks.v1+cell": {
     "cellMetadata": {
      "byteLimit": 2048000,
      "rowLimit": 10000
     },
     "inputWidgets": {},
     "nuid": "360fc776-2f5a-41ab-8ac1-c22dac3a43a7",
     "showTitle": false,
     "tableResultSettingsMap": {},
     "title": ""
    }
   },
   "outputs": [],
   "source": [
    "%python\n",
    "from mlflow.tracking import MlflowClient\n",
    "\n",
    "client = MlflowClient()\n",
    "\n",
    "# Retrieve the experiment named '1_data_ingestion_and_training'\n",
    "path=\"/Users/nikesh.kaza@accenture.com/mlops/notebooks/\"\n",
    "experiment_name = path+'1_data_ingestion_and_training'\n",
    "experiment = client.get_experiment_by_name(experiment_name)\n",
    "\n",
    "if experiment:\n",
    "    print(f\"Experiment Name: {experiment.name}, Experiment ID: {experiment.experiment_id}\")\n",
    "    \n",
    "    # Get all runs for the experiment\n",
    "    runs = client.search_runs(experiment_ids=[experiment.experiment_id])\n",
    "    \n",
    "    # Find the run with the highest RMSE\n",
    "    highest_rmse = float('-inf')\n",
    "    highest_rmse_run_id = None\n",
    "    \n",
    "    for run in runs:\n",
    "        rmse = run.data.metrics.get('rmse', None)\n",
    "        if rmse is not None and rmse > highest_rmse:\n",
    "            highest_rmse = rmse\n",
    "            highest_rmse_run_id = run.info.run_id\n",
    "    \n",
    "    if highest_rmse_run_id:\n",
    "        print(f\"Run ID with highest RMSE: {highest_rmse_run_id}, RMSE: {highest_rmse}\")\n",
    "    else:\n",
    "        print(\"No runs with RMSE metric found.\")\n",
    "else:\n",
    "    print(f\"Experiment '{experiment_name}' not found.\")\n",
    "\n",
    "run_id = highest_rmse_run_id\n"
   ]
  },
  {
   "cell_type": "code",
   "execution_count": 0,
   "metadata": {
    "application/vnd.databricks.v1+cell": {
     "cellMetadata": {
      "byteLimit": 2048000,
      "rowLimit": 10000
     },
     "inputWidgets": {},
     "nuid": "3cb5405b-cdaf-43ff-9868-c7854fb91bca",
     "showTitle": false,
     "tableResultSettingsMap": {},
     "title": ""
    }
   },
   "outputs": [],
   "source": [
    "import mlflow.sklearn\n",
    "import pandas as pd\n",
    "print(run_id)\n",
    "path=\"/Workspace/Users/nikesh.kaza@accenture.com/mlops/data\"\n",
    "model = mlflow.sklearn.load_model(\"runs:/\"+run_id+\"/model\")\n",
    "test = pd.read_csv(path+\"/test.csv\")\n",
    "X_test = test.drop(\"medv\", axis=1)\n",
    "\n",
    "predictions = model.predict(X_test)\n",
    "print(predictions[:10])\n"
   ]
  }
 ],
 "metadata": {
  "application/vnd.databricks.v1+notebook": {
   "computePreferences": null,
   "dashboards": [],
   "environmentMetadata": null,
   "inputWidgetPreferences": null,
   "language": "python",
   "notebookMetadata": {
    "pythonIndentUnit": 4
   },
   "notebookName": "2_batch_prediction",
   "widgets": {}
  },
  "language_info": {
   "name": "python"
  }
 },
 "nbformat": 4,
 "nbformat_minor": 0
}
