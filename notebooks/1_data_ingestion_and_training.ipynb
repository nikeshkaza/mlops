{
 "cells": [
  {
   "cell_type": "code",
   "execution_count": 0,
   "metadata": {
    "application/vnd.databricks.v1+cell": {
     "cellMetadata": {
      "byteLimit": 2048000,
      "rowLimit": 10000
     },
     "inputWidgets": {},
     "nuid": "8c5c54f1-7547-4cb5-b4e5-3cc3ccd78103",
     "showTitle": false,
     "tableResultSettingsMap": {},
     "title": ""
    }
   },
   "outputs": [],
   "source": [
    "# Notebook 1: Data Ingestion and Model Training with MLflow\n",
    "import pandas as pd\n",
    "from sklearn.model_selection import train_test_split\n",
    "from sklearn.linear_model import LinearRegression\n",
    "from sklearn.metrics import mean_squared_error\n",
    "import mlflow\n",
    "import mlflow.sklearn\n",
    "\n",
    "path=\"/Workspace/Users/nikesh.kaza@accenture.com/mlops/data\"\n",
    "df = pd.read_csv(\"https://raw.githubusercontent.com/selva86/datasets/master/BostonHousing.csv\")\n",
    "df.to_csv(path+\"/boston.csv\", index=False)  # Save to DBFS\n",
    "\n",
    "# Split data\n",
    "train, test = train_test_split(df, test_size=0.2, random_state=42)\n",
    "train.to_csv(path+\"/train.csv\", index=False)\n",
    "test.to_csv(path+\"/test.csv\", index=False)\n",
    "\n",
    "# Train model\n",
    "X_train = train.drop(\"medv\", axis=1)\n",
    "y_train = train[\"medv\"]\n",
    "\n",
    "mlflow.start_run()\n",
    "model = LinearRegression().fit(X_train, y_train)\n",
    "mlflow.sklearn.log_model(model, \"model\")\n",
    "rmse = mean_squared_error(y_train, model.predict(X_train), squared=False)\n",
    "mlflow.log_metric(\"rmse\", rmse)\n",
    "mlflow.end_run()\n",
    "\n",
    "print(f\"Model trained done and RMSE logged: {rmse}\")\n"
   ]
  }
 ],
 "metadata": {
  "application/vnd.databricks.v1+notebook": {
   "computePreferences": null,
   "dashboards": [],
   "environmentMetadata": null,
   "inputWidgetPreferences": null,
   "language": "python",
   "notebookMetadata": {
    "pythonIndentUnit": 4
   },
   "notebookName": "1_data_ingestion_and_training",
   "widgets": {}
  },
  "language_info": {
   "name": "python"
  }
 },
 "nbformat": 4,
 "nbformat_minor": 0
}
